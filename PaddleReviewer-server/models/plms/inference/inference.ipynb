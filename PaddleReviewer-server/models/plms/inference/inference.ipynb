{
 "cells": [
  {
   "cell_type": "markdown",
   "metadata": {},
   "source": [
    "#data\n",
    "```\n",
    "{\n",
    "    \"patch\": \"@@ -53,7 +53,7 @@ public class ProtocGapicPluginGeneratorTest {\\n                 model.getFiles().stream().map(ProtoFile::getProto).collect(Collectors.toList()))\\n             // Only the file to generate a client for (don't generate dependencies)\\n             .addFileToGenerate(\\\"multiple_services.proto\\\")\\n-            .setParameter(\\\"language=java\\\")\\n+            .setParameter(\\\"language=java,transport=grpc\\\")\\n             .build();\\n \\n     CodeGeneratorResponse response = ProtocGeneratorMain.generate(codeGeneratorRequest);\",\n",
    "    \"y\": 1,\n",
    "    \"oldf\": \"/* Copyright 2019 Google LLC\\n *\\n * Licensed under the Apache License, Version 2.0 (the \\\"License\\\");\\n * you may not use this file except in compliance with the License.\\n * You may obtain a copy of the License at\\n *\\n *      https://www.apache.org/licenses/LICENSE-2.0\\n *\\n * Unless required by applicable law or agreed to in writing, software\\n * distributed under the License is distributed on an \\\"AS IS\\\" BASIS,\\n * WITHOUT WARRANTIES OR CONDITIONS OF ANY KIND, either express or implied.\\n * See the License for the specific language governing permissions and\\n * limitations under the License.\\n */\\npackage com.google.api.codegen.gapic;\\n\\nimport com.google.api.codegen.CodegenTestUtil;\\nimport com.google.api.codegen.ProtocGeneratorMain;\\nimport com.google.api.codegen.protoannotations.GapicCodeGeneratorAnnotationsTest;\\nimport com.google.api.tools.framework.model.Model;\\nimport com.google.api.tools.framework.model.ProtoFile;\\nimport com.google.api.tools.framework.model.testing.TestDataLocator;\\nimport com.google.common.truth.Truth;\\nimport com.google.protobuf.compiler.PluginProtos.CodeGeneratorRequest;\\nimport com.google.protobuf.compiler.PluginProtos.CodeGeneratorResponse;\\nimport java.util.stream.Collectors;\\nimport org.junit.BeforeClass;\\nimport org.junit.ClassRule;\\nimport org.junit.Test;\\nimport org.junit.rules.TemporaryFolder;\\n\\npublic class ProtocGapicPluginGeneratorTest {\\n\\n  private static String[] protoFiles = {\\\"multiple_services.proto\\\"};\\n  private static TestDataLocator testDataLocator;\\n  private static Model model;\\n  @ClassRule public static TemporaryFolder tempDir = new TemporaryFolder();\\n\\n  @BeforeClass\\n  public static void startUp() {\\n    testDataLocator = TestDataLocator.create(GapicCodeGeneratorAnnotationsTest.class);\\n    testDataLocator.addTestDataSource(CodegenTestUtil.class, \\\"testsrc/common\\\");\\n\\n    model = CodegenTestUtil.readModel(testDataLocator, tempDir, protoFiles, new String[] {});\\n  }\\n\\n  @Test\\n  public void testGenerator() {\\n    CodeGeneratorRequest codeGeneratorRequest =\\n        CodeGeneratorRequest.newBuilder()\\n            // All proto files, including dependencies\\n            .addAllProtoFile(\\n                model.getFiles().stream().map(ProtoFile::getProto).collect(Collectors.toList()))\\n            // Only the file to generate a client for (don't generate dependencies)\\n            .addFileToGenerate(\\\"multiple_services.proto\\\")\\n            .setParameter(\\\"language=java\\\")\\n            .build();\\n\\n    CodeGeneratorResponse response = ProtocGeneratorMain.generate(codeGeneratorRequest);\\n\\n    // TODO(andrealin): Look into setting these up as baseline files.\\n    Truth.assertThat(response).isNotNull();\\n    Truth.assertThat(response.getError()).isEmpty();\\n    Truth.assertThat(response.getFileCount()).isEqualTo(15);\\n    Truth.assertThat(response.getFile(0).getContent()).contains(\\\"DecrementerServiceClient\\\");\\n  }\\n\\n  @Test\\n  public void testFailingGenerator() {\\n    CodeGeneratorRequest codeGeneratorRequest =\\n        CodeGeneratorRequest.newBuilder()\\n            .addAllProtoFile(\\n                model.getFiles().stream().map(ProtoFile::getProto).collect(Collectors.toList()))\\n            // File does not exist.\\n            .addFileToGenerate(\\\"fuuuuudge.proto\\\")\\n            .build();\\n\\n    CodeGeneratorResponse response = ProtocGeneratorMain.generate(codeGeneratorRequest);\\n\\n    Truth.assertThat(response).isNotNull();\\n    Truth.assertThat(response.getError()).isNotEmpty();\\n  }\\n}\\n\",\n",
    "    \"idx\": 1,\n",
    "    \"id\": 30879,\n",
    "    \"msg\": \"can we also test for `transport=rest`?\",\n",
    "    \"proj\": \"googleapis-gapic-generator\",\n",
    "    \"lang\": \"java\"\n",
    "}\n",
    "```"
   ]
  },
  {
   "cell_type": "code",
   "execution_count": 1,
   "metadata": {},
   "outputs": [
    {
     "ename": "ModuleNotFoundError",
     "evalue": "No module named 'code.models'; 'code' is not a package",
     "output_type": "error",
     "traceback": [
      "\u001b[0;31m---------------------------------------------------------------------------\u001b[0m",
      "\u001b[0;31mModuleNotFoundError\u001b[0m                       Traceback (most recent call last)",
      "Cell \u001b[0;32mIn[1], line 22\u001b[0m\n\u001b[1;32m      9\u001b[0m \u001b[38;5;28;01mfrom\u001b[39;00m \u001b[38;5;21;01mtransformers\u001b[39;00m \u001b[38;5;28;01mimport\u001b[39;00m (\n\u001b[1;32m     10\u001b[0m     RobertaConfig,\n\u001b[1;32m     11\u001b[0m     RobertaModel,\n\u001b[0;32m   (...)\u001b[0m\n\u001b[1;32m     19\u001b[0m     AutoTokenizer,\n\u001b[1;32m     20\u001b[0m )\n\u001b[1;32m     21\u001b[0m \u001b[38;5;28;01mimport\u001b[39;00m \u001b[38;5;21;01mlogging\u001b[39;00m\n\u001b[0;32m---> 22\u001b[0m \u001b[38;5;28;01mfrom\u001b[39;00m \u001b[38;5;21;01mcode\u001b[39;00m\u001b[38;5;21;01m.\u001b[39;00m\u001b[38;5;21;01mmodels\u001b[39;00m \u001b[38;5;28;01mimport\u001b[39;00m ReviewerModel, load_model\n\u001b[1;32m     23\u001b[0m \u001b[38;5;28;01mimport\u001b[39;00m \u001b[38;5;21;01mjson\u001b[39;00m\n\u001b[1;32m     26\u001b[0m mnt_dir\u001b[38;5;241m=\u001b[39m\u001b[38;5;124m\"\u001b[39m\u001b[38;5;124m/data/DataLACP/rambo/data/codereviewer\u001b[39m\u001b[38;5;124m\"\u001b[39m\n",
      "\u001b[0;31mModuleNotFoundError\u001b[0m: No module named 'code.models'; 'code' is not a package"
     ]
    }
   ],
   "source": [
    "import os\n",
    "import sys\n",
    "\n",
    "import torch.nn as nn\n",
    "import torch\n",
    "import torch.nn.functional as F\n",
    "from torch.nn import CrossEntropyLoss, BCEWithLogitsLoss\n",
    "import numpy as np\n",
    "from transformers import (\n",
    "    RobertaConfig,\n",
    "    RobertaModel,\n",
    "    RobertaTokenizer,\n",
    "    BartConfig,\n",
    "    BartForConditionalGeneration,\n",
    "    BartTokenizer,\n",
    "    T5Config,\n",
    "    T5ForConditionalGeneration,\n",
    "    T5Tokenizer,\n",
    "    AutoTokenizer,\n",
    ")\n",
    "import logging\n",
    "from code.models import ReviewerModel, load_model\n",
    "import json\n",
    "\n",
    "\n",
    "mnt_dir=\"/data/DataLACP/rambo/data/codereviewer\"\n",
    "model_path = os.path.join(mnt_dir, \"codereviewer\")\n",
    "max_source_length = 300\n",
    "max_target_length = 128\n",
    "mask_rate = 0.15 \n",
    "beam_size = 10\n",
    "device = torch.device(\"cpu\")\n",
    "\n",
    "class CRModel():\n",
    "    def __init__(self, model_path, max_source_length, max_target_length, mask_rate, beam_size, device):\n",
    "        self.model_path = model_path\n",
    "        self.max_source_length = max_source_length\n",
    "        self.max_target_length = max_target_length\n",
    "        self.mask_rate = mask_rate\n",
    "        self.beam_size = beam_size\n",
    "        self.device = device\n",
    "        config_class, model_class, tokenizer_class = (T5Config, ReviewerModel, T5Tokenizer)\n",
    "        config = config_class.from_pretrained(model_path)\n",
    "        model = model_class.from_pretrained(model_path)\n",
    "        config, model, tokenizer = load_model(\n",
    "            config,\n",
    "            model,\n",
    "            tokenizer_class,\n",
    "            add_lang_ids=True,\n",
    "            tokenizer_path=model_path,\n",
    "        )\n",
    "\n",
    "        model_bin_path = os.path.join(model_path, \"pytorch_model.bin\")\n",
    "        saved = model.cls_head\n",
    "        model.cls_head = None\n",
    "        model.load_state_dict(torch.load(model_bin_path, map_location=\"cpu\"))\n",
    "        model.cls_head = saved\n",
    "        #model.to(args.local_rank)\n",
    "        model.to(device)\n",
    "        self.model = model\n",
    "        self.config = config\n",
    "        self.tokenizer = tokenizer\n",
    "        \n",
    "    def predict(self, diff):\n",
    "        difflines = diff.split(\"\\n\")[1:]        # remove start @@\n",
    "        difflines = [line for line in difflines if len(line.strip()) > 0]\n",
    "        map_dic = {\"-\": 0, \"+\": 1, \" \": 2}\n",
    "        def f(s):\n",
    "            if s in map_dic:\n",
    "                return map_dic[s]\n",
    "            else:\n",
    "                return 2\n",
    "        labels = [f(line[0]) for line in difflines]\n",
    "        difflines = [line[1:].strip() for line in difflines]\n",
    "        inputstr = \"\"\n",
    "        for label, line in zip(labels, difflines):\n",
    "            if label == 1:\n",
    "                inputstr += \"<add>\" + line\n",
    "            elif label == 0:\n",
    "                inputstr += \"<del>\" + line\n",
    "            else:\n",
    "                inputstr += \"<keep>\" + line\n",
    "        source_ids = self.tokenizer.encode(inputstr, max_length=max_source_length, truncation=True)\n",
    "        source_ids = source_ids[:max_source_length - 2]\n",
    "        source_ids = [self.tokenizer.bos_id] + source_ids + [self.tokenizer.eos_id]\n",
    "        pad_len = max_source_length - len(source_ids)\n",
    "        source_ids += [self.tokenizer.pad_id] * pad_len\n",
    "\n",
    "        input_labels = [-100] * len(source_ids)\n",
    "\n",
    "        pred_ids, ex_ids = [], []\n",
    "        source_ids = torch.tensor([source_ids], dtype=torch.long).to(device)\n",
    "        source_mask = source_ids.ne(self.tokenizer.pad_id)\n",
    "        preds = self.model.generate(source_ids,\n",
    "                        attention_mask=source_mask,\n",
    "                        use_cache=True,\n",
    "                        num_beams=beam_size,\n",
    "                        early_stopping=True,\n",
    "                        max_length=max_target_length,\n",
    "                        )\n",
    "        top_preds = list(preds.cpu().numpy())\n",
    "        pred_ids.extend(top_preds)\n",
    "        pred_nls = [self.tokenizer.decode(id[1:], skip_special_tokens=True, clean_up_tokenization_spaces=False) for id in pred_ids]\n",
    "        return pred_nls[0]\n",
    "\n"
   ]
  },
  {
   "cell_type": "code",
   "execution_count": 2,
   "metadata": {},
   "outputs": [
    {
     "name": "stdout",
     "output_type": "stream",
     "text": [
      "<class 'transformers.models.t5.tokenization_t5.T5Tokenizer'> <class 'str'>\n"
     ]
    },
    {
     "name": "stderr",
     "output_type": "stream",
     "text": [
      "/home/rambo/miniconda3/envs/spaco/lib/python3.10/site-packages/transformers/tokenization_utils_base.py:1601: FutureWarning: `clean_up_tokenization_spaces` was not set. It will be set to `True` by default. This behavior will be depracted in transformers v4.45, and will be then set to `False` by default. For more details check this issue: https://github.com/huggingface/transformers/issues/31884\n",
      "  warnings.warn(\n",
      "/tmp/ipykernel_2984665/3700254775.py:56: FutureWarning: You are using `torch.load` with `weights_only=False` (the current default value), which uses the default pickle module implicitly. It is possible to construct malicious pickle data which will execute arbitrary code during unpickling (See https://github.com/pytorch/pytorch/blob/main/SECURITY.md#untrusted-models for more details). In a future release, the default value for `weights_only` will be flipped to `True`. This limits the functions that could be executed during unpickling. Arbitrary objects will no longer be allowed to be loaded via this mode unless they are explicitly allowlisted by the user via `torch.serialization.add_safe_globals`. We recommend you start setting `weights_only=True` for any use case where you don't have full control of the loaded file. Please open an issue on GitHub for any issues related to this experimental feature.\n",
      "  model.load_state_dict(torch.load(model_bin_path, map_location=\"cpu\"))\n"
     ]
    },
    {
     "data": {
      "text/plain": [
       "'`$config->Index->record_batch_size` -> `$config->IndexBatchSize`'"
      ]
     },
     "execution_count": 2,
     "metadata": {},
     "output_type": "execute_result"
    }
   ],
   "source": [
    "import json\n",
    "json_string = '''{\n",
    "    \"patch\": \"@@ -53,7 +53,7 @@ public class ProtocGapicPluginGeneratorTest {\\\\n                 model.getFiles().stream().map(ProtoFile::getProto).collect(Collectors.toList()))\\\\n             // Only the file to generate a client for (don't generate dependencies)\\\\n             .addFileToGenerate(\\\\\"multiple_services.proto\\\\\")\\\\n-            .setParameter(\\\\\"language=java\\\\\")\\\\n+            .setParameter(\\\\\"language=java,transport=grpc\\\\\")\\\\n             .build();\\\\n \\\\n     CodeGeneratorResponse response = ProtocGeneratorMain.generate(codeGeneratorRequest);\",\n",
    "    \"y\": 1,\n",
    "    \"oldf\": \"/* Copyright 2019 Google LLC\\\\n *\\\\n * Licensed under the Apache License, Version 2.0 (the \\\\\"License\\\\\");\\\\n * you may not use this file except in compliance with the License.\\\\n * You may obtain a copy of the License at\\\\n *\\\\n *      https://www.apache.org/licenses/LICENSE-2.0\\\\n *\\\\n * Unless required by applicable law or agreed to in writing, software\\\\n * distributed under the License is distributed on an \\\\\"AS IS\\\\\" BASIS,\\\\n * WITHOUT WARRANTIES OR CONDITIONS OF ANY KIND, either express or implied.\\\\n * See the License for the specific language governing permissions and\\\\n * limitations under the License.\\\\n */\\\\npackage com.google.api.codegen.gapic;\\\\n\\\\nimport com.google.api.codegen.CodegenTestUtil;\\\\nimport com.google.api.codegen.ProtocGeneratorMain;\\\\nimport com.google.api.codegen.protoannotations.GapicCodeGeneratorAnnotationsTest;\\\\nimport com.google.api.tools.framework.model.Model;\\\\nimport com.google.api.tools.framework.model.ProtoFile;\\\\nimport com.google.api.tools.framework.model.testing.TestDataLocator;\\\\nimport com.google.common.truth.Truth;\\\\nimport com.google.protobuf.compiler.PluginProtos.CodeGeneratorRequest;\\\\nimport com.google.protobuf.compiler.PluginProtos.CodeGeneratorResponse;\\\\nimport java.util.stream.Collectors;\\\\nimport org.junit.BeforeClass;\\\\nimport org.junit.ClassRule;\\\\nimport org.junit.Test;\\\\nimport org.junit.rules.TemporaryFolder;\\\\n\\\\npublic class ProtocGapicPluginGeneratorTest {\\\\n\\\\n  private static String[] protoFiles = {\\\\\"multiple_services.proto\\\\\"};\\\\n  private static TestDataLocator testDataLocator;\\\\n  private static Model model;\\\\n  @ClassRule public static TemporaryFolder tempDir = new TemporaryFolder();\\\\n\\\\n  @BeforeClass\\\\n  public static void startUp() {\\\\n    testDataLocator = TestDataLocator.create(GapicCodeGeneratorAnnotationsTest.class);\\\\n    testDataLocator.addTestDataSource(CodegenTestUtil.class, \\\\\"testsrc/common\\\\\");\\\\n\\\\n    model = CodegenTestUtil.readModel(testDataLocator, tempDir, protoFiles, new String[] {});\\\\n  }\\\\n\\\\n  @Test\\\\n  public void testGenerator() {\\\\n    CodeGeneratorRequest codeGeneratorRequest =\\\\n        CodeGeneratorRequest.newBuilder()\\\\n            // All proto files, including dependencies\\\\n            .addAllProtoFile(\\\\n                model.getFiles().stream().map(ProtoFile::getProto).collect(Collectors.toList()))\\\\n            // Only the file to generate a client for (don't generate dependencies)\\\\n            .addFileToGenerate(\\\\\"multiple_services.proto\\\\\")\\\\n            .setParameter(\\\\\"language=java\\\\\")\\\\n            .build();\\\\n\\\\n    CodeGeneratorResponse response = ProtocGeneratorMain.generate(codeGeneratorRequest);\\\\n\\\\n    // TODO(andrealin): Look into setting these up as baseline files.\\\\n    Truth.assertThat(response).isNotNull();\\\\n    Truth.assertThat(response.getError()).isEmpty();\\\\n    Truth.assertThat(response.getFileCount()).isEqualTo(15);\\\\n    Truth.assertThat(response.getFile(0).getContent()).contains(\\\\\"DecrementerServiceClient\\\\\");\\\\n  }\\\\n\\\\n  @Test\\\\n  public void testFailingGenerator() {\\\\n    CodeGeneratorRequest codeGeneratorRequest =\\\\n        CodeGeneratorRequest.newBuilder()\\\\n            .addAllProtoFile(\\\\n                model.getFiles().stream().map(ProtoFile::getProto).collect(Collectors.toList()))\\\\n            // File does not exist.\\\\n            .addFileToGenerate(\\\\\"fuuuuudge.proto\\\\\")\\\\n            .build();\\\\n\\\\n    CodeGeneratorResponse response = ProtocGeneratorMain.generate(codeGeneratorRequest);\\\\n\\\\n    Truth.assertThat(response).isNotNull();\\\\n    Truth.assertThat(response.getError()).isNotEmpty();\\\\n  }\\\\n}\\\\n\",\n",
    "    \"idx\": 1,\n",
    "    \"id\": 30879,\n",
    "    \"msg\": \"can we also test for `transport=rest`?\",\n",
    "    \"proj\": \"googleapis-gapic-generator\",\n",
    "    \"lang\": \"java\"\n",
    "}'''\n",
    "\n",
    "example = {\"msg\":\"\",\n",
    "           \"patch\":'''\"@@ -182,7 +182,9 @@ abstract class AbstractSolrBackendFactory implements FactoryInterface\\n      */\\n     protected function createBackend(Connector $connector)\\n     {\\n+        $config = $this->config->get($this->mainConfig);\\n         $backend = new $this->backendClass($connector);\\n+        $backend->setPageSize($config->Index->record_batch_size);\\n         $backend->setQueryBuilder($this->createQueryBuilder());\\n         $backend->setSimilarBuilder($this->createSimilarBuilder());\\n         if ($this->logger) {\",\n",
    "    '''}\n",
    "\n",
    "diff = example[\"patch\"]\n",
    "model = CRModel(model_path, max_source_length, max_target_length, mask_rate, beam_size, device)\n",
    "model.predict(diff)"
   ]
  }
 ],
 "metadata": {
  "kernelspec": {
   "display_name": "spaco",
   "language": "python",
   "name": "python3"
  },
  "language_info": {
   "codemirror_mode": {
    "name": "ipython",
    "version": 3
   },
   "file_extension": ".py",
   "mimetype": "text/x-python",
   "name": "python",
   "nbconvert_exporter": "python",
   "pygments_lexer": "ipython3",
   "version": "3.10.13"
  }
 },
 "nbformat": 4,
 "nbformat_minor": 2
}
